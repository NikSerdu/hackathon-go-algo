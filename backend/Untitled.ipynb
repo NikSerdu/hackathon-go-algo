{
 "cells": [
  {
   "cell_type": "code",
   "execution_count": 1,
   "id": "a0bb6ea9",
   "metadata": {},
   "outputs": [],
   "source": [
    "from moexalgo import Ticker\n",
    "from fastapi import FastAPI\n",
    "import datetime\n",
    "from fastapi.middleware.cors import CORSMiddleware\n",
    "\n",
    "app = FastAPI()\n",
    "\n",
    "origins = [\n",
    "    \"http://localhost:5173\",\n",
    "]\n",
    "\n",
    "app.add_middleware(\n",
    "    CORSMiddleware,\n",
    "    allow_origins=origins,\n",
    "    allow_credentials=True,\n",
    "    allow_methods=[\"*\"],\n",
    "    allow_headers=[\"*\"],\n",
    ")\n",
    "\n",
    "\n",
    "@app.get('/{ticker}')\n",
    "def get_stock_data(ticker: str):\n",
    "    curr_date = datetime.date.today()\n",
    "    week_ago = curr_date - datetime.timedelta(weeks=1)\n",
    "    curr_date, week_ago = str(curr_date), str(week_ago)\n",
    "    try:\n",
    "        data = Ticker(ticker).candles(period='1h', date=week_ago, till_date=curr_date)\n",
    "        \n",
    "        return {\n",
    "            \"price\": data['open'].to_list(),\n",
    "            \"volume\": data['volume'].to_list(),\n",
    "            \"time\": data['begin'].to_list()\n",
    "        }\n",
    "    except LookupError:\n",
    "        \n",
    "        return {\n",
    "            \"Message\": \"Invalid ticker\"\n",
    "        }"
   ]
  },
  {
   "cell_type": "code",
   "execution_count": null,
   "id": "9c893de8",
   "metadata": {},
   "outputs": [
    {
     "name": "stderr",
     "output_type": "stream",
     "text": [
      "INFO:     Started server process [12172]\n",
      "INFO:     Waiting for application startup.\n",
      "INFO:     Application startup complete.\n",
      "INFO:     Uvicorn running on http://127.0.0.1:8000 (Press CTRL+C to quit)\n"
     ]
    },
    {
     "name": "stdout",
     "output_type": "stream",
     "text": [
      "INFO:     127.0.0.1:59064 - \"GET /?ticker=SBER HTTP/1.1\" 404 Not Found\n",
      "INFO:     127.0.0.1:59064 - \"GET /?ticker=SBER HTTP/1.1\" 404 Not Found\n",
      "INFO:     127.0.0.1:59064 - \"GET /?ticker=SBER HTTP/1.1\" 404 Not Found\n",
      "INFO:     127.0.0.1:59064 - \"GET /?ticker=SBER HTTP/1.1\" 404 Not Found\n",
      "INFO:     127.0.0.1:59084 - \"GET /?ticker=SBER HTTP/1.1\" 404 Not Found\n",
      "INFO:     127.0.0.1:59084 - \"GET /?ticker=SBER HTTP/1.1\" 404 Not Found\n",
      "INFO:     127.0.0.1:59131 - \"GET /SBER?ticker=SBER HTTP/1.1\" 200 OK\n",
      "INFO:     127.0.0.1:59148 - \"GET /SBER?ticker=SBER HTTP/1.1\" 200 OK\n",
      "INFO:     127.0.0.1:59111 - \"GET /SBER HTTP/1.1\" 200 OK\n",
      "INFO:     127.0.0.1:59170 - \"GET /SBER HTTP/1.1\" 200 OK\n",
      "INFO:     127.0.0.1:59111 - \"GET /favicon.ico HTTP/1.1\" 200 OK\n",
      "INFO:     127.0.0.1:59184 - \"GET /SBER HTTP/1.1\" 200 OK\n",
      "INFO:     127.0.0.1:59184 - \"GET /SBER HTTP/1.1\" 200 OK\n",
      "INFO:     127.0.0.1:59344 - \"GET /SBER HTTP/1.1\" 200 OK\n",
      "INFO:     127.0.0.1:59349 - \"GET /SBER HTTP/1.1\" 200 OK\n",
      "INFO:     127.0.0.1:59363 - \"GET /MOEX HTTP/1.1\" 200 OK\n",
      "INFO:     127.0.0.1:59385 - \"GET /SBER HTTP/1.1\" 200 OK\n",
      "INFO:     127.0.0.1:59390 - \"GET /MOEX HTTP/1.1\" 200 OK\n",
      "INFO:     127.0.0.1:59412 - \"GET /SBER HTTP/1.1\" 200 OK\n",
      "INFO:     127.0.0.1:59430 - \"GET /SBER HTTP/1.1\" 200 OK\n",
      "INFO:     127.0.0.1:59434 - \"GET /SBER HTTP/1.1\" 200 OK\n",
      "INFO:     127.0.0.1:59436 - \"GET /MOEX HTTP/1.1\" 200 OK\n",
      "INFO:     127.0.0.1:59439 - \"GET /MOEX HTTP/1.1\" 200 OK\n",
      "INFO:     127.0.0.1:59447 - \"GET /MOEX HTTP/1.1\" 200 OK\n",
      "INFO:     127.0.0.1:59458 - \"GET /SBER HTTP/1.1\" 200 OK\n",
      "INFO:     127.0.0.1:59469 - \"GET /SBER HTTP/1.1\" 200 OK\n",
      "INFO:     127.0.0.1:59469 - \"GET /MOEX HTTP/1.1\" 200 OK\n",
      "INFO:     127.0.0.1:59480 - \"GET /SBER HTTP/1.1\" 200 OK\n",
      "INFO:     127.0.0.1:59537 - \"GET /SBER HTTP/1.1\" 200 OK\n",
      "INFO:     127.0.0.1:59577 - \"GET /SBER HTTP/1.1\" 200 OK\n",
      "INFO:     127.0.0.1:59644 - \"GET /MOEX HTTP/1.1\" 200 OK\n",
      "INFO:     127.0.0.1:59644 - \"GET /SBER HTTP/1.1\" 200 OK\n",
      "INFO:     127.0.0.1:59699 - \"GET /MOEX HTTP/1.1\" 200 OK\n",
      "INFO:     127.0.0.1:59683 - \"GET /MOEX HTTP/1.1\" 200 OK\n",
      "INFO:     127.0.0.1:59683 - \"GET /favicon.ico HTTP/1.1\" 200 OK\n",
      "INFO:     127.0.0.1:59721 - \"GET /MOEX HTTP/1.1\" 200 OK\n",
      "INFO:     127.0.0.1:59726 - \"GET /MOEX HTTP/1.1\" 200 OK\n",
      "INFO:     127.0.0.1:59726 - \"GET /favicon.ico HTTP/1.1\" 200 OK\n",
      "INFO:     127.0.0.1:59726 - \"GET /SBER HTTP/1.1\" 200 OK\n",
      "INFO:     127.0.0.1:59726 - \"GET /favicon.ico HTTP/1.1\" 200 OK\n",
      "INFO:     127.0.0.1:59731 - \"GET /MOEX HTTP/1.1\" 200 OK\n",
      "INFO:     127.0.0.1:59731 - \"GET /SBER HTTP/1.1\" 200 OK\n",
      "INFO:     127.0.0.1:59731 - \"GET /MOEX HTTP/1.1\" 200 OK\n",
      "INFO:     127.0.0.1:59731 - \"GET /SBER HTTP/1.1\" 200 OK\n",
      "INFO:     127.0.0.1:59731 - \"GET /MOEX HTTP/1.1\" 200 OK\n",
      "INFO:     127.0.0.1:59737 - \"GET /SBER HTTP/1.1\" 200 OK\n",
      "INFO:     127.0.0.1:59737 - \"GET /SBER HTTP/1.1\" 200 OK\n",
      "INFO:     127.0.0.1:59737 - \"GET /MOEX HTTP/1.1\" 200 OK\n",
      "INFO:     127.0.0.1:59755 - \"GET /MOEX HTTP/1.1\" 200 OK\n",
      "INFO:     127.0.0.1:59747 - \"GET /MOEX HTTP/1.1\" 200 OK\n",
      "INFO:     127.0.0.1:59747 - \"GET /favicon.ico HTTP/1.1\" 200 OK\n",
      "INFO:     127.0.0.1:59799 - \"GET /TATN HTTP/1.1\" 200 OK\n",
      "INFO:     127.0.0.1:59799 - \"GET /favicon.ico HTTP/1.1\" 200 OK\n"
     ]
    }
   ],
   "source": [
    "import asyncio\n",
    "import uvicorn\n",
    "\n",
    "if __name__ == \"__main__\":\n",
    "    config = uvicorn.Config(app)\n",
    "    server = uvicorn.Server(config)\n",
    "    await server.serve()"
   ]
  },
  {
   "cell_type": "code",
   "execution_count": null,
   "id": "cbd05adf",
   "metadata": {},
   "outputs": [],
   "source": []
  }
 ],
 "metadata": {
  "kernelspec": {
   "display_name": "Python 3 (ipykernel)",
   "language": "python",
   "name": "python3"
  },
  "language_info": {
   "codemirror_mode": {
    "name": "ipython",
    "version": 3
   },
   "file_extension": ".py",
   "mimetype": "text/x-python",
   "name": "python",
   "nbconvert_exporter": "python",
   "pygments_lexer": "ipython3",
   "version": "3.11.4"
  }
 },
 "nbformat": 4,
 "nbformat_minor": 5
}
